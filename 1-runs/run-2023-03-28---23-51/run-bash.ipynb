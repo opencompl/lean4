{
 "cells": [
  {
   "cell_type": "code",
   "execution_count": 8,
   "id": "e24d6a2e-3794-41c1-a3f9-c2e292ee5ce0",
   "metadata": {},
   "outputs": [
    {
     "name": "stdout",
     "output_type": "stream",
     "text": [
      "/auto/homes/sb2743/2024-borrowing/lean4/1-runs/run-2023-03-28---22-25\n",
      "Thu 28 Mar 22:34:46 GMT 2024\n",
      "\u001b[31m??\u001b[m ./\n",
      "root is: /auto/homes/sb2743/2024-borrowing/lean4\n",
      "out folder is: /auto/homes/sb2743/2024-borrowing/lean4/1-runs/run-2023-03-28---22-25\n"
     ]
    }
   ],
   "source": [
    "pwd\n",
    "date\n",
    "git status --short\n",
    "ROOT=$(git rev-parse --show-toplevel)\n",
    "echo \"root is: $ROOT\"\n",
    "OUTFOLDER=$(pwd)\n",
    "echo \"out folder is: $OUTFOLDER\""
   ]
  },
  {
   "cell_type": "code",
   "execution_count": 14,
   "id": "ee9388b8-6d67-4b04-8de9-b9a6db1bf855",
   "metadata": {
    "scrolled": true
   },
   "outputs": [
    {
     "name": "stdout",
     "output_type": "stream",
     "text": [
      "@@@ NOREUSE BUILD @@@\n",
      "CSV name is: 1711665962---28-03-2024---22:46:02.noreuse.csv\n",
      "output file is: /auto/homes/sb2743/2024-borrowing/lean4/1-runs/run-2023-03-28---22-25/1711665962---28-03-2024---22:46:02.noreuse.csv\n",
      "-- The CXX compiler identification is GNU 11.4.0\n",
      "-- The C compiler identification is GNU 11.4.0\n",
      "-- Detecting CXX compiler ABI info\n",
      "-- Detecting CXX compiler ABI info - done\n",
      "-- Check for working CXX compiler: /usr/bin/c++ - skipped\n",
      "-- Detecting CXX compile features\n",
      "-- Detecting CXX compile features - done\n",
      "-- Detecting C compiler ABI info\n",
      "-- Detecting C compiler ABI info - done\n",
      "-- Check for working C compiler: /usr/bin/cc - skipped\n",
      "-- Detecting C compile features\n",
      "-- Detecting C compile features - done\n",
      "-- Configuring done\n",
      "-- Generating done\n",
      "-- Build files have been written to: /auto/homes/sb2743/2024-borrowing/lean4/build/noreuse\n",
      "@@@ REUSE BUILD @@@\n",
      "output file is: /auto/homes/sb2743/2024-borrowing/lean4/1-runs/run-2023-03-28---22-25/1711667536---28-03-2024---23:12:16.reuse.csv\n",
      "-- The CXX compiler identification is GNU 11.4.0\n",
      "-- The C compiler identification is GNU 11.4.0\n",
      "-- Detecting CXX compiler ABI info\n",
      "-- Detecting CXX compiler ABI info - done\n",
      "-- Check for working CXX compiler: /usr/bin/c++ - skipped\n",
      "-- Detecting CXX compile features\n",
      "-- Detecting CXX compile features - done\n",
      "-- Detecting C compiler ABI info\n",
      "-- Detecting C compiler ABI info - done\n",
      "-- Check for working C compiler: /usr/bin/cc - skipped\n",
      "-- Detecting C compile features\n",
      "-- Detecting C compile features - done\n",
      "-- Configuring done\n",
      "-- Generating done\n",
      "-- Build files have been written to: /auto/homes/sb2743/2024-borrowing/lean4/build/reuse\n"
     ]
    }
   ],
   "source": [
    "rm -rf $ROOT/build/noreuse || true\n",
    "mkdir -p $ROOT/build/noreuse\n",
    "cd $ROOT/build/noreuse\n",
    "\n",
    "# == NO REUSE ==\n",
    "\n",
    "echo \"@@@ NOREUSE BUILD @@@\"\n",
    "\n",
    "CSVNAME=$(date +'%s---%d-%m-%Y---%H:%M:%S').noreuse\n",
    "echo \"CSV name is: $CSVNAME\"\n",
    "OUTFILE=\"$OUTFOLDER/$CSVNAME\"\n",
    "echo \"output file is: $OUTFILE\"\n",
    "\n",
    "cmake ../../ \\\n",
    "  -DCCACHE=OFF \\\n",
    "  -DLEAN_RESEARCH_IS_REUSE_ACROSS_CONSTRUCTORS_ENABLED=0 \\\n",
    "  -DLEAN_RESEARCH_COMPILER_PROFILE_CSV_PATH=$OUTFILE\n",
    "\n",
    "make -j stage1 2>1 >> log.txt\n",
    "make -j stage2 2>1 >> log.txt\n",
    "touch ../../src/Init/Prelude.lean\n",
    "touch $OUTFILE && echo \"\" > $OUTFILE\n",
    "/usr/bin/time -v make -j20 stage2 &> \"time-noreuse-stage2.txt\"\n",
    "mv $OUTFOLDER/$CSVNAME $OUTFOLDER/$CSVNAME.noreuse.stage2.csv\n",
    "/usr/bin/time -v make -j20 stage3 &> \"time-noreuse-stage3.txt\"\n",
    "mv $OUTFOLDER/$CSVNAME $OUTFOLDER/$CSVNAME.noreuse.stage3.csv\n",
    "\n",
    "# == REUSE ==\n",
    "\n",
    "echo \"@@@ REUSE BUILD @@@\"\n",
    "\n",
    "rm -rf $ROOT/build/reuse || true\n",
    "mkdir -p $ROOT/build/reuse\n",
    "cd $ROOT/build/reuse\n",
    "\n",
    "CSVNAME=\"$(date +'%s---%d-%m-%Y---%H:%M:%S')\"\n",
    "OUTFILE=\"$OUTFOLDER/$CSVNAME\"\n",
    "echo \"output file is: $OUTFILE\"\n",
    "\n",
    "cmake ../../ \\\n",
    "  -DCCACHE=OFF \\\n",
    "  -DLEAN_RESEARCH_IS_REUSE_ACROSS_CONSTRUCTORS_ENABLED=1 \\\n",
    "  -DLEAN_RESEARCH_COMPILER_PROFILE_CSV_PATH=$OUTFILE\n",
    "make -j stage1  2>1 >> log.txt\n",
    "make -j stage2  2>1 >> log.txt\n",
    "touch ../../src/Init/Prelude.lean\n",
    "touch $OUTFILE && echo \"\" > $OUTFILE\n",
    "/usr/bin/time -v make -j stage2 &> \"time-reuse-stage2.txt\"\n",
    "mv $OUTFOLDER/$CSVNAME $OUTFOLDER/$CSVNAME.reuse.stage2.csv\n",
    "\n",
    "/usr/bin/time -v make -j stage3 &> \"time-noreuse-stage3.txt\"\n",
    "mv $OUTFOLDER/$CSVNAME $OUTFOLDER/$CSVNAME.reuse.stage3.csv\n",
    "\n",
    "echo \"DONE!\"\n",
    "curl -d \"Done benchmark: $OUTFOLDER\" ntfy.sh/xISSztEV8EoOchM2"
   ]
  },
  {
   "cell_type": "code",
   "execution_count": null,
   "id": "3bd63e48-d841-4c5b-9981-6238e8cfb9e9",
   "metadata": {},
   "outputs": [],
   "source": [
    "# tail -f $ROOT/build/reuse/time-noreuse-stage2.txt -n 35\n",
    "# tail -f $ROOT/build/noreuse/time-noreuse-stage2.txt -n 35"
   ]
  }
 ],
 "metadata": {
  "kernelspec": {
   "display_name": "Bash",
   "language": "bash",
   "name": "bash"
  },
  "language_info": {
   "codemirror_mode": "shell",
   "file_extension": ".sh",
   "mimetype": "text/x-sh",
   "name": "bash"
  }
 },
 "nbformat": 4,
 "nbformat_minor": 5
}
