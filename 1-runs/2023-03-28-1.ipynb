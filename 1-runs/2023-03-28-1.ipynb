{
 "cells": [
  {
   "cell_type": "code",
   "execution_count": 29,
   "id": "7bf44663-0c63-4ab2-afef-861b50da2132",
   "metadata": {},
   "outputs": [
    {
     "name": "stdout",
     "output_type": "stream",
     "text": [
      "/auto/homes/sb2743/2024-borrowing/lean4/build/build/noreuse\n",
      "Thu 28 Mar 11:51:47 GMT 2024\n"
     ]
    }
   ],
   "source": [
    "!pwd\n",
    "! date"
   ]
  },
  {
   "cell_type": "code",
   "execution_count": 24,
   "id": "9f6f0b15-4279-4930-b18a-4219757e1b29",
   "metadata": {},
   "outputs": [
    {
     "name": "stdout",
     "output_type": "stream",
     "text": [
      "/auto/homes/sb2743/2024-borrowing/lean4/build\n",
      "3b5938625f4cf8bbab2c9f779bc82b98d9489882\n",
      " \u001b[31mM\u001b[m ../1-runs/2023-03-28-1.ipynb\n"
     ]
    }
   ],
   "source": [
    "%cd ../\n",
    "!git rev-parse HEAD\n",
    "!git status --short"
   ]
  },
  {
   "cell_type": "code",
   "execution_count": 25,
   "id": "991f9e61-b175-4198-8f81-d975133e631e",
   "metadata": {},
   "outputs": [
    {
     "name": "stdout",
     "output_type": "stream",
     "text": [
      "/auto/homes/sb2743/2024-borrowing/lean4/build/build/noreuse\n"
     ]
    }
   ],
   "source": [
    "!mkdir -p build/noreuse\n",
    "%cd build/noreuse"
   ]
  },
  {
   "cell_type": "code",
   "execution_count": 41,
   "id": "49748309-18de-41cb-a1d5-2e9bb47427bb",
   "metadata": {},
   "outputs": [
    {
     "name": "stdout",
     "output_type": "stream",
     "text": [
      "env: RESEARCH_LOG_VERBOSE=false\n",
      "env: RESEARCH_IS_REUSE_ACROSS_CONSTRUCTORS_ENABLED=FALSE\n",
      "env: RESEARCH_LEAN_COMPILER_PROFILE_CSV_PATH=\"\"\n"
     ]
    }
   ],
   "source": [
    "%env RESEARCH_LOG_VERBOSE=false\n",
    "%env RESEARCH_IS_REUSE_ACROSS_CONSTRUCTORS_ENABLED=FALSE\n",
    "%env RESEARCH_LEAN_COMPILER_PROFILE_CSV_PATH=\"\""
   ]
  },
  {
   "cell_type": "code",
   "execution_count": 42,
   "id": "2691daf2-694e-4b5a-9e98-8e32c33f73af",
   "metadata": {},
   "outputs": [
    {
     "name": "stdout",
     "output_type": "stream",
     "text": [
      "/auto/homes/sb2743/2024-borrowing/lean4/build/noreuse\n",
      "[  6%] \u001b[34m\u001b[1mPerforming build step for 'stage0'\u001b[0m\n",
      "[  1%] Built target shell\n",
      "[  1%] Built target initialize\n",
      "[ 10%] Built target constructions\n",
      "[ 47%] Built target kernel\n",
      "[ 61%] Built target util\n",
      "[ 80%] Built target library\n",
      "[ 96%] Built target leanrt\n",
      "[ 96%] Built target leanrt_initial-exec\n",
      "[100%] Built target compiler\n",
      "[100%] Built target leancpp\n",
      "[100%] Built target make_stdlib\n",
      "[100%] Built target Init_shared\n",
      "[100%] Built target leanshared\n",
      "[100%] Built target lean\n",
      "[ 12%] \u001b[34m\u001b[1mNo install step for 'stage0'\u001b[0m\n",
      "[ 18%] \u001b[34m\u001b[1mCompleted 'stage0'\u001b[0m\n",
      "[ 50%] Built target stage0\n",
      "[ 56%] \u001b[34m\u001b[1mPerforming configure step for 'stage1'\u001b[0m\n",
      "cc: error: unrecognized command-line option ‘--print-target-triple’\n",
      "cc: fatal error: no input files\n",
      "compilation terminated.\n",
      "-- No build type selected, default to Release\n",
      "-- 64-bit machine detected\n",
      "\u001b[33mCMake Warning at CMakeLists.txt:288 (message):\n",
      "  Disabling LLVM support\n",
      "\n",
      "\u001b[0m\n",
      "-- git commit sha1: 3b5938625f4cf8bbab2c9f779bc82b98d9489882\n",
      "-- Configuring done\n",
      "-- Generating done\n",
      "-- Build files have been written to: /homes/sb2743/2024-borrowing/lean4/build/noreuse/stage1\n",
      "[ 62%] \u001b[34m\u001b[1mPerforming build step for 'stage1'\u001b[0m\n",
      "\u001b[35m\u001b[1mConsolidate compiler generated dependencies of target initialize\u001b[0m\n",
      "\u001b[35m\u001b[1mConsolidate compiler generated dependencies of target shell\u001b[0m\n",
      "\u001b[35m\u001b[1mConsolidate compiler generated dependencies of target constructions\u001b[0m\n",
      "\u001b[35m\u001b[1mConsolidate compiler generated dependencies of target kernel\u001b[0m\n",
      "\u001b[35m\u001b[1mConsolidate compiler generated dependencies of target util\u001b[0m\n",
      "\u001b[35m\u001b[1mConsolidate compiler generated dependencies of target library\u001b[0m\n",
      "\u001b[35m\u001b[1mConsolidate compiler generated dependencies of target leanrt_initial-exec\u001b[0m\n",
      "\u001b[35m\u001b[1mConsolidate compiler generated dependencies of target compiler\u001b[0m\n",
      "\u001b[35m\u001b[1mConsolidate compiler generated dependencies of target leanrt\u001b[0m\n",
      "[  1%] Built target shell\n",
      "[  2%] Built target initialize\n",
      "[ 13%] Built target constructions\n",
      "[ 31%] Built target kernel\n",
      "[ 55%] Built target util\n",
      "[ 63%] Built target library\n",
      "[ 85%] Built target leanrt_initial-exec\n",
      "[ 99%] Built target compiler\n",
      "[ 99%] Built target leanrt\n",
      "[100%] Built target leancpp\n",
      "[100%] Built target make_stdlib\n",
      "[100%] Built target Init_shared\n",
      "[100%] Built target leanshared\n",
      "[100%] Built target lean\n",
      "[100%] Built target leanc\n",
      "[100%] Built target lake\n",
      "[ 68%] \u001b[34m\u001b[1mNo install step for 'stage1'\u001b[0m\n",
      "[ 75%] \u001b[34m\u001b[1mCompleted 'stage1'\u001b[0m\n",
      "[100%] Built target stage1\n"
     ]
    }
   ],
   "source": [
    "!pwd\n",
    "!make -j20 stage1"
   ]
  },
  {
   "cell_type": "code",
   "execution_count": 46,
   "id": "bc062d36-b071-43dd-be46-ead10e8a8afe",
   "metadata": {},
   "outputs": [
    {
     "name": "stdout",
     "output_type": "stream",
     "text": [
      "\"\"\n",
      "[  4%] \u001b[34m\u001b[1mPerforming build step for 'stage0'\u001b[0m\n",
      "[  1%] Built target shell\n",
      "[  1%] Built target initialize\n",
      "[ 14%] Built target constructions\n",
      "[ 55%] Built target kernel\n",
      "[ 58%] Built target util\n",
      "[ 79%] Built target library\n",
      "[ 96%] Built target leanrt_initial-exec\n",
      "[ 98%] Built target leanrt\n",
      "[100%] Built target compiler\n",
      "[100%] Built target leancpp\n",
      "[100%] Built target make_stdlib\n",
      "[100%] Built target Init_shared\n",
      "[100%] Built target leanshared\n",
      "[100%] Built target lean\n",
      "[  8%] \u001b[34m\u001b[1mNo install step for 'stage0'\u001b[0m\n",
      "[ 12%] \u001b[34m\u001b[1mCompleted 'stage0'\u001b[0m\n",
      "[ 33%] Built target stage0\n",
      "[ 37%] \u001b[34m\u001b[1mPerforming configure step for 'stage1'\u001b[0m\n",
      "cc: error: unrecognized command-line option ‘--print-target-triple’\n",
      "cc: fatal error: no input files\n",
      "compilation terminated.\n",
      "-- No build type selected, default to Release\n",
      "-- 64-bit machine detected\n",
      "\u001b[33mCMake Warning at CMakeLists.txt:288 (message):\n",
      "  Disabling LLVM support\n",
      "\n",
      "\u001b[0m\n",
      "-- git commit sha1: 3b5938625f4cf8bbab2c9f779bc82b98d9489882\n",
      "-- Configuring done\n",
      "-- Generating done\n",
      "-- Build files have been written to: /homes/sb2743/2024-borrowing/lean4/build/noreuse/stage1\n",
      "[ 41%] \u001b[34m\u001b[1mPerforming build step for 'stage1'\u001b[0m\n",
      "\u001b[35m\u001b[1mConsolidate compiler generated dependencies of target initialize\u001b[0m\n",
      "\u001b[35m\u001b[1mConsolidate compiler generated dependencies of target shell\u001b[0m\n",
      "\u001b[35m\u001b[1mConsolidate compiler generated dependencies of target constructions\u001b[0m\n",
      "\u001b[35m\u001b[1mConsolidate compiler generated dependencies of target kernel\u001b[0m\n",
      "\u001b[35m\u001b[1mConsolidate compiler generated dependencies of target util\u001b[0m\n",
      "\u001b[35m\u001b[1mConsolidate compiler generated dependencies of target library\u001b[0m\n",
      "\u001b[35m\u001b[1mConsolidate compiler generated dependencies of target leanrt_initial-exec\u001b[0m\n",
      "\u001b[35m\u001b[1mConsolidate compiler generated dependencies of target leanrt\u001b[0m\n",
      "\u001b[35m\u001b[1mConsolidate compiler generated dependencies of target compiler\u001b[0m\n",
      "[  1%] Built target shell\n",
      "[  2%] Built target initialize\n",
      "[  7%] Built target constructions\n",
      "[ 42%] Built target kernel\n",
      "[ 64%] Built target util\n",
      "[ 72%] Built target library\n",
      "[ 96%] Built target leanrt\n",
      "[ 98%] Built target leanrt_initial-exec\n",
      "[ 99%] Built target compiler\n",
      "[100%] Built target leancpp\n",
      "[100%] Built target make_stdlib\n",
      "[100%] Built target Init_shared\n",
      "[100%] Built target leanshared\n",
      "[100%] Built target lean\n",
      "[100%] Built target leanc\n",
      "[100%] Built target lake\n",
      "[ 45%] \u001b[34m\u001b[1mNo install step for 'stage1'\u001b[0m\n",
      "[ 50%] \u001b[34m\u001b[1mCompleted 'stage1'\u001b[0m\n",
      "[ 66%] Built target stage1\n",
      "[ 70%] \u001b[34m\u001b[1mPerforming configure step for 'stage2'\u001b[0m\n",
      "cc: error: unrecognized command-line option ‘--print-target-triple’\n",
      "cc: fatal error: no input files\n",
      "compilation terminated.\n",
      "-- No build type selected, default to Release\n",
      "-- 64-bit machine detected\n",
      "\u001b[33mCMake Warning at CMakeLists.txt:288 (message):\n",
      "  Disabling LLVM support\n",
      "\n",
      "\u001b[0m\n",
      "-- git commit sha1: 3b5938625f4cf8bbab2c9f779bc82b98d9489882\n",
      "-- Configuring done\n",
      "-- Generating done\n",
      "-- Build files have been written to: /homes/sb2743/2024-borrowing/lean4/build/noreuse/stage2\n",
      "[ 75%] \u001b[34m\u001b[1mPerforming build step for 'stage2'\u001b[0m\n",
      "\u001b[35m\u001b[1mConsolidate compiler generated dependencies of target shell\u001b[0m\n",
      "[100%] Built target copy-leancpp\n",
      "[100%] Built target shell\n",
      "[    ] Building Init/Tactics.lean\n",
      "expected environment variable to be string for 'RESEARCH_LEAN_COMPILER_PROFILE_CSV_PATH'\n",
      "\n",
      "make[8]: *** [/homes/sb2743/2024-borrowing/lean4/build/noreuse/stage2/bin/../share/lean/lean.mk:78: ../build/noreuse/stage2/lib/lean/Init/Tactics.olean] Error 1\n",
      "make[7]: *** [/homes/sb2743/2024-borrowing/lean4/build/noreuse/stage2/stdlib.make:37: Init] Error 2\n",
      "make[6]: *** [CMakeFiles/make_stdlib.dir/build.make:70: CMakeFiles/make_stdlib] Error 2\n",
      "make[5]: *** [CMakeFiles/Makefile2:896: CMakeFiles/make_stdlib.dir/all] Error 2\n",
      "make[4]: *** [Makefile:146: all] Error 2\n",
      "make[3]: *** [CMakeFiles/stage2.dir/build.make:86: stage2-prefix/src/stage2-stamp/stage2-build] Error 2\n",
      "make[2]: *** [CMakeFiles/Makefile2:142: CMakeFiles/stage2.dir/all] Error 2\n",
      "make[1]: *** [CMakeFiles/Makefile2:149: CMakeFiles/stage2.dir/rule] Error 2\n",
      "make: *** [Makefile:195: stage2] Error 2\n"
     ]
    }
   ],
   "source": [
    "!RESEARCH_LEAN_COMPILER_PROFILE_CSV_PATH=\"\" make -j20 stage2"
   ]
  },
  {
   "cell_type": "code",
   "execution_count": null,
   "id": "77799843-e364-41d9-9014-c59e828b463b",
   "metadata": {},
   "outputs": [],
   "source": [
    "%touch ../../src/Init/Prelude.lean\n",
    "%env RESEARCH_LEAN_COMPILER_PROFILE_CSV_PATH=\"/homes/sb2743/2024-borrowing/lean4/1-runs/2023-03-28-1.noreuse.csv\""
   ]
  }
 ],
 "metadata": {
  "kernelspec": {
   "display_name": "Python 3 (ipykernel)",
   "language": "python",
   "name": "python3"
  },
  "language_info": {
   "codemirror_mode": {
    "name": "ipython",
    "version": 3
   },
   "file_extension": ".py",
   "mimetype": "text/x-python",
   "name": "python",
   "nbconvert_exporter": "python",
   "pygments_lexer": "ipython3",
   "version": "3.10.12"
  }
 },
 "nbformat": 4,
 "nbformat_minor": 5
}
